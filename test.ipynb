{
 "cells": [
  {
   "cell_type": "code",
   "execution_count": 13,
   "metadata": {},
   "outputs": [
    {
     "name": "stdout",
     "output_type": "stream",
     "text": [
      "orig forward\n",
      "custom forward <class 'torch.nn.modules.linear.Linear'> <class 'torch.Tensor'>\n",
      "direct linear\n",
      "custom forward <class 'torch.nn.modules.linear.Linear'> <class 'torch.Tensor'>\n"
     ]
    }
   ],
   "source": [
    "import torch\n",
    "\n",
    "def cus_forward(self, x):\n",
    "    print(\"custom forward\", type(self), type(x))\n",
    "\n",
    "class TTM(torch.nn.Module):\n",
    "    def __init__(self) -> None:\n",
    "        super().__init__()\n",
    "        self.linear = torch.nn.Linear(32, 32)\n",
    "    \n",
    "    def forward(self, x):\n",
    "        return self.linear(x)\n",
    "\n",
    "class TM(torch.nn.Module):\n",
    "    def __init__(self) -> None:\n",
    "        super().__init__()\n",
    "        self.ttm = TTM()\n",
    "\n",
    "    def forward(self, x):\n",
    "        print(\"orig forward\")\n",
    "        self.ttm(x)\n",
    "\n",
    "tm = TM()\n",
    "linear = torch.nn.Linear(32, 64)\n",
    "\n",
    "torch.nn.Linear.forward = cus_forward\n",
    "\n",
    "tm.forward(torch.ones(1, 32))\n",
    "print(\"direct linear\")\n",
    "linear(torch.ones(1, 32))"
   ]
  }
 ],
 "metadata": {
  "kernelspec": {
   "display_name": "ldm",
   "language": "python",
   "name": "python3"
  },
  "language_info": {
   "codemirror_mode": {
    "name": "ipython",
    "version": 3
   },
   "file_extension": ".py",
   "mimetype": "text/x-python",
   "name": "python",
   "nbconvert_exporter": "python",
   "pygments_lexer": "ipython3",
   "version": "3.8.5"
  },
  "orig_nbformat": 4
 },
 "nbformat": 4,
 "nbformat_minor": 2
}
